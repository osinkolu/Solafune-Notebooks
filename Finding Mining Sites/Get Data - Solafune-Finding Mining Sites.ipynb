{
 "cells": [
  {
   "cell_type": "markdown",
   "id": "fd33f8af",
   "metadata": {},
   "source": [
    "Run this notebook to automatically download the data into your environment."
   ]
  },
  {
   "cell_type": "code",
   "execution_count": 1,
   "id": "ca1e60e1",
   "metadata": {
    "_cell_guid": "b1076dfc-b9ad-4769-8c92-a6c4dae69d19",
    "_uuid": "8f2839f25d086af736a60e9eeb907d3b93b6e0e5",
    "execution": {
     "iopub.execute_input": "2024-01-31T23:34:38.446029Z",
     "iopub.status.busy": "2024-01-31T23:34:38.444974Z",
     "iopub.status.idle": "2024-01-31T23:37:24.005509Z",
     "shell.execute_reply": "2024-01-31T23:37:24.002871Z"
    },
    "papermill": {
     "duration": 165.567717,
     "end_time": "2024-01-31T23:37:24.009035",
     "exception": false,
     "start_time": "2024-01-31T23:34:38.441318",
     "status": "completed"
    },
    "tags": []
   },
   "outputs": [
    {
     "name": "stdout",
     "output_type": "stream",
     "text": [
      "--2024-01-31 23:34:39--  https://solafune-dev-v1.s3-accelerate.amazonaws.com/competitions/mining_comp/train.zip\r\n",
      "Resolving solafune-dev-v1.s3-accelerate.amazonaws.com (solafune-dev-v1.s3-accelerate.amazonaws.com)... 13.35.29.229\r\n",
      "Connecting to solafune-dev-v1.s3-accelerate.amazonaws.com (solafune-dev-v1.s3-accelerate.amazonaws.com)|13.35.29.229|:443... connected.\r\n",
      "HTTP request sent, awaiting response... 200 OK\r\n",
      "Length: 6619864429 (6.2G) [application/zip]\r\n",
      "Saving to: 'train.zip'\r\n",
      "\r\n",
      "train.zip           100%[===================>]   6.17G  38.6MB/s    in 2m 44s  \r\n",
      "\r\n",
      "2024-01-31 23:37:23 (38.5 MB/s) - 'train.zip' saved [6619864429/6619864429]\r\n",
      "\r\n"
     ]
    }
   ],
   "source": [
    "!wget \"https://solafune-dev-v1.s3-accelerate.amazonaws.com/competitions/mining_comp/train.zip\""
   ]
  },
  {
   "cell_type": "code",
   "execution_count": 2,
   "id": "cc37c5b3",
   "metadata": {
    "execution": {
     "iopub.execute_input": "2024-01-31T23:37:24.118116Z",
     "iopub.status.busy": "2024-01-31T23:37:24.117617Z",
     "iopub.status.idle": "2024-01-31T23:40:08.463436Z",
     "shell.execute_reply": "2024-01-31T23:40:08.461934Z"
    },
    "papermill": {
     "duration": 164.403523,
     "end_time": "2024-01-31T23:40:08.466288",
     "exception": false,
     "start_time": "2024-01-31T23:37:24.062765",
     "status": "completed"
    },
    "tags": []
   },
   "outputs": [
    {
     "name": "stdout",
     "output_type": "stream",
     "text": [
      "--2024-01-31 23:37:25--  https://solafune-dev-v1.s3-accelerate.amazonaws.com/competitions/mining_comp/evaluation_images.zip\r\n",
      "Resolving solafune-dev-v1.s3-accelerate.amazonaws.com (solafune-dev-v1.s3-accelerate.amazonaws.com)... 13.35.29.229\r\n",
      "Connecting to solafune-dev-v1.s3-accelerate.amazonaws.com (solafune-dev-v1.s3-accelerate.amazonaws.com)|13.35.29.229|:443... connected.\r\n",
      "HTTP request sent, awaiting response... 200 OK\r\n",
      "Length: 6616865153 (6.2G) [application/zip]\r\n",
      "Saving to: 'evaluation_images.zip'\r\n",
      "\r\n",
      "evaluation_images.z 100%[===================>]   6.16G  38.7MB/s    in 2m 43s  \r\n",
      "\r\n",
      "2024-01-31 23:40:08 (38.7 MB/s) - 'evaluation_images.zip' saved [6616865153/6616865153]\r\n",
      "\r\n"
     ]
    }
   ],
   "source": [
    "!wget \"https://solafune-dev-v1.s3-accelerate.amazonaws.com/competitions/mining_comp/evaluation_images.zip\""
   ]
  },
  {
   "cell_type": "code",
   "execution_count": 3,
   "id": "ec297e72",
   "metadata": {
    "execution": {
     "iopub.execute_input": "2024-01-31T23:40:08.682630Z",
     "iopub.status.busy": "2024-01-31T23:40:08.682220Z",
     "iopub.status.idle": "2024-01-31T23:40:09.972264Z",
     "shell.execute_reply": "2024-01-31T23:40:09.970690Z"
    },
    "papermill": {
     "duration": 1.403744,
     "end_time": "2024-01-31T23:40:09.976114",
     "exception": false,
     "start_time": "2024-01-31T23:40:08.572370",
     "status": "completed"
    },
    "tags": []
   },
   "outputs": [
    {
     "name": "stdout",
     "output_type": "stream",
     "text": [
      "--2024-01-31 23:40:09--  https://solafune-dev-v1.s3-accelerate.amazonaws.com/competitions/mining_comp/uploadsample.csv\r\n",
      "Resolving solafune-dev-v1.s3-accelerate.amazonaws.com (solafune-dev-v1.s3-accelerate.amazonaws.com)... 13.35.29.229\r\n",
      "Connecting to solafune-dev-v1.s3-accelerate.amazonaws.com (solafune-dev-v1.s3-accelerate.amazonaws.com)|13.35.29.229|:443... connected.\r\n",
      "HTTP request sent, awaiting response... 200 OK\r\n",
      "Length: 27477 (27K) [text/csv]\r\n",
      "Saving to: 'uploadsample.csv'\r\n",
      "\r\n",
      "uploadsample.csv    100%[===================>]  26.83K  --.-KB/s    in 0.001s  \r\n",
      "\r\n",
      "2024-01-31 23:40:09 (22.6 MB/s) - 'uploadsample.csv' saved [27477/27477]\r\n",
      "\r\n"
     ]
    }
   ],
   "source": [
    "!wget \"https://solafune-dev-v1.s3-accelerate.amazonaws.com/competitions/mining_comp/uploadsample.csv\""
   ]
  }
 ],
 "metadata": {
  "kaggle": {
   "accelerator": "none",
   "dataSources": [],
   "dockerImageVersionId": 30646,
   "isGpuEnabled": false,
   "isInternetEnabled": true,
   "language": "python",
   "sourceType": "notebook"
  },
  "kernelspec": {
   "display_name": "Python 3 (ipykernel)",
   "language": "python",
   "name": "python3"
  },
  "language_info": {
   "codemirror_mode": {
    "name": "ipython",
    "version": 3
   },
   "file_extension": ".py",
   "mimetype": "text/x-python",
   "name": "python",
   "nbconvert_exporter": "python",
   "pygments_lexer": "ipython3",
   "version": "3.9.12"
  },
  "papermill": {
   "default_parameters": {},
   "duration": 335.394301,
   "end_time": "2024-01-31T23:40:10.603814",
   "environment_variables": {},
   "exception": null,
   "input_path": "__notebook__.ipynb",
   "output_path": "__notebook__.ipynb",
   "parameters": {},
   "start_time": "2024-01-31T23:34:35.209513",
   "version": "2.5.0"
  }
 },
 "nbformat": 4,
 "nbformat_minor": 5
}
